{
 "cells": [
  {
   "cell_type": "code",
   "execution_count": 1,
   "metadata": {
    "ExecuteTime": {
     "end_time": "2019-05-12T00:57:53.437729Z",
     "start_time": "2019-05-12T00:57:50.408059Z"
    }
   },
   "outputs": [],
   "source": [
    "import random\n",
    "from pprint import pprint\n",
    "\n",
    "import numpy as np\n",
    "import scipy.optimize\n",
    "import scipy.stats\n",
    "\n",
    "import matplotlib.pyplot as plt"
   ]
  },
  {
   "cell_type": "markdown",
   "metadata": {},
   "source": [
    "# Helper functions"
   ]
  },
  {
   "cell_type": "code",
   "execution_count": 2,
   "metadata": {
    "ExecuteTime": {
     "end_time": "2019-05-12T01:44:49.269801Z",
     "start_time": "2019-05-12T01:44:49.259832Z"
    }
   },
   "outputs": [],
   "source": [
    "# OUTPUTS:\n",
    "# 1. universe = list of all players, i.e. [1, ..., n]\n",
    "# 2. pi_list = list of all partial rankings. each partial ranking is tuple (ordering, scores)\n",
    "# e.g. ([1,3,2],[5,6,7]) means player 1 < player 3 < player 2, with player 1 getting score 5, etc.\n",
    "\n",
    "# INPUTS:\n",
    "# 1. n = size of universe\n",
    "# 2. s is such that\n",
    "# partial rankings = min(s, #of partial rankings needed so that each element of the universe is in >1 ranking)\n",
    "# 3. p = prob an element is in s \n",
    "# 4. means[i] is mean score for elt i\n",
    "# 5. sigma = stdev of scores\n",
    "def create_pi_list(n, s, p, means, sigma):\n",
    "    pi_list = []\n",
    "    included_elts = set() # list of all elements in some partial ranking\n",
    "    while (len(included_elts) < n) or (len(pi_list) < s):\n",
    "        pi=[]\n",
    "        for v in range(1, n+1):\n",
    "            if random.uniform(0,1) < p:\n",
    "                pi += [v]\n",
    "        scaling = np.random.uniform(low=1/3,high=3)\n",
    "        scores = [np.random.normal(means[w-1] / 5, sigma) * scaling for w in pi]\n",
    "\n",
    "        if len(pi) > 1:\n",
    "            scores_sorted = [x for x, _ in sorted(zip(scores, pi), key=lambda pair: pair[0])]\n",
    "            pi_sorted = [x for _, x in sorted(zip(scores, pi), key=lambda pair: pair[0])]\n",
    "            pi_list += [(pi_sorted, scores_sorted)]\n",
    "            included_elts.update(pi_sorted)\n",
    "    universe=np.array(list(included_elts))\n",
    "    return (universe, pi_list)"
   ]
  },
  {
   "cell_type": "code",
   "execution_count": 3,
   "metadata": {
    "ExecuteTime": {
     "end_time": "2019-05-12T01:35:45.209376Z",
     "start_time": "2019-05-12T01:35:45.202082Z"
    }
   },
   "outputs": [],
   "source": [
    "##################################################\n",
    "# COMPUTE PAGERANK\n",
    "##################################################\n",
    "\n",
    "# given probability transition matrix P\n",
    "# where P_{v,w} = Prob(w -> v)\n",
    "# find pagerank scores with restart probability r\n",
    "def compute_pr(P, r, n, eps=1e-8):\n",
    "    x = np.ones(n) / n*1.0\n",
    "    flag = True\n",
    "    t=0\n",
    "    while flag:\n",
    "        x_new = (1-r)*P.dot(x)\n",
    "        x_new = x_new + np.ones(n) * r / n\n",
    "        diff = np.linalg.norm(x_new - x)\n",
    "        if np.linalg.norm(x_new - x,ord=1) < eps and t > 100:\n",
    "            flag = False\n",
    "        t=t+1\n",
    "        x = x_new\n",
    "    return x"
   ]
  },
  {
   "cell_type": "markdown",
   "metadata": {},
   "source": [
    "# Hypergraph ranking"
   ]
  },
  {
   "cell_type": "code",
   "execution_count": 4,
   "metadata": {
    "ExecuteTime": {
     "end_time": "2019-05-12T02:27:37.268334Z",
     "start_time": "2019-05-12T02:27:37.255856Z"
    }
   },
   "outputs": [],
   "source": [
    "# OUTPUT:\n",
    "# ordering of players using hypergraph rank aggregation algorithm\n",
    "# expressed via a list, e.g. [1,3,2,4] means player 1 < player 3 < ...\n",
    "def hg_rank(universe, pi_list):\n",
    "    # first create these matrices\n",
    "    # R = |E| x |V|, H(e, v) = lambda_e(v)\n",
    "    # W = |V| x |E|, W(v, e) = w(e) 1(v in e)\n",
    "    m = len(pi_list) # number of hyperedges\n",
    "    n = len(universe) # number of items to be ranked \n",
    "    R = np.zeros([m, n])\n",
    "    W = np.zeros([n, m])\n",
    "\n",
    "    for i in range(len(pi_list)):\n",
    "        pi, scores = pi_list[i]\n",
    "        if len(pi) > 1:   \n",
    "            for j in range(len(pi)):\n",
    "                v = pi[j]\n",
    "                v = np.where(universe == v)[0][0] #equivalent to universe.index(v) but for np arrays\n",
    "                R[i, v] = np.exp(scores[j])\n",
    "                W[v, i] = 1.0\n",
    "\n",
    "            # edge weight is stdev of vertex weights\n",
    "            W[:, i] = (np.std(scores) + 1.0) * W[:, i]\n",
    "\n",
    "            R[i, :] = R[i,:] / sum(R[i,:])\n",
    "\n",
    "    # create diagonal matrix with entries d(v)\n",
    "    D_V = np.diag(np.sum(W, 1))\n",
    "\n",
    "    # create prob trans matrix\n",
    "    P = np.linalg.inv(D_V).dot(W).dot(R)\n",
    "    P = np.transpose(P) # since we're using column vectors\n",
    "\n",
    "    # create RWR matrix\n",
    "    r=0.40\n",
    "    rankings = compute_pr(P, r, n)\n",
    "    return universe[np.argsort(rankings)]"
   ]
  },
  {
   "cell_type": "markdown",
   "metadata": {},
   "source": [
    "# Clique graph ranking"
   ]
  },
  {
   "cell_type": "code",
   "execution_count": 5,
   "metadata": {
    "ExecuteTime": {
     "end_time": "2019-05-12T01:57:57.480195Z",
     "start_time": "2019-05-12T01:57:57.472185Z"
    }
   },
   "outputs": [],
   "source": [
    "# Create matrix A, where A_{u,v} is given in Eq 10 in main text\n",
    "def compute_gh_weights(R, W):\n",
    "    E, V = R.shape\n",
    "    A = np.zeros([V,V]) # to return\n",
    "    \n",
    "    # first, create edge weight vector\n",
    "    WE = np.zeros(E)\n",
    "    # for each edge, find first non-zero value that is >0\n",
    "    for e in range(E):\n",
    "        WE[e] = W[np.where(W[:,e] > 0)[0],e][0]\n",
    "    \n",
    "    # iterate over edges, add w(e) * gam_e(u) * gam_e(v) term\n",
    "    # for each pair of vertices u,v \\in e\n",
    "    for e in range(E):\n",
    "        nodes_in_e = np.nonzero(R[e,:])[0]\n",
    "        for u in nodes_in_e:\n",
    "            for v in nodes_in_e:\n",
    "                A[u,v] += WE[e] * R[e,u] * R[e,v]\n",
    "    return A"
   ]
  },
  {
   "cell_type": "code",
   "execution_count": 6,
   "metadata": {
    "ExecuteTime": {
     "end_time": "2019-05-12T02:27:35.430677Z",
     "start_time": "2019-05-12T02:27:35.418867Z"
    }
   },
   "outputs": [],
   "source": [
    "# OUTPUT:\n",
    "# ordering of players using hypergraph rank aggregation algorithm\n",
    "# expressed via a list, e.g. [1,3,2,4] means player 1 < player 3 < ...\n",
    "def gh_rank(universe, pi_list):\n",
    "    # first create these matrices\n",
    "    # R = |E| x |V|, H(e, v) = lambda_e(v)\n",
    "    # W = |V| x |E|, W(v, e) = w(e) 1(v in e)\n",
    "    m = len(pi_list) # number of hyperedges\n",
    "    n = len(universe) # number of items to be ranked \n",
    "    R = np.zeros([m, n])\n",
    "    W = np.zeros([n, m])\n",
    "\n",
    "    for i in range(len(pi_list)):\n",
    "        pi, scores = pi_list[i]\n",
    "        if len(pi) > 1:   \n",
    "            for j in range(len(pi)):\n",
    "                v = pi[j]\n",
    "                v = np.where(universe == v)[0][0] #equivalent to universe.index(v) but for np arrays\n",
    "                R[i, v] = np.exp(scores[j])\n",
    "                W[v, i] = 1.0\n",
    "\n",
    "            # edge weight is stdev of vertex weights?\n",
    "            W[:, i] = (np.std(scores) + 1.0) * W[:, i]\n",
    "\n",
    "            R[i, :] = R[i,:] / sum(R[i,:])\n",
    "\n",
    "    # compute edge weights of G^H\n",
    "    A = compute_gh_weights(R, W)\n",
    "            \n",
    "    # create prob trans matrix by normalizing columns to sum to 1\n",
    "    P = A/A.sum(axis=1)[:,None]\n",
    "    P=P.T\n",
    "\n",
    "    # create RWR matrix\n",
    "    r=0.40\n",
    "    rankings = compute_pr(P, r, n)\n",
    "    return universe[np.argsort(rankings)]"
   ]
  },
  {
   "cell_type": "markdown",
   "metadata": {},
   "source": [
    "# MC3 ranking"
   ]
  },
  {
   "cell_type": "code",
   "execution_count": 7,
   "metadata": {
    "ExecuteTime": {
     "end_time": "2019-05-12T02:04:44.329303Z",
     "start_time": "2019-05-12T02:04:44.318545Z"
    }
   },
   "outputs": [],
   "source": [
    "# OUTPUT:\n",
    "# ordering of players using hypergraph rank aggregation algorithm\n",
    "# expressed via a list, e.g. [1,3,2,4] means player 1 < player 3 < ...\n",
    "def dwork_mc3_rank(universe, pi_list):\n",
    "\n",
    "    n = len(universe)\n",
    "\n",
    "    P = np.zeros([n, n]) #Pij = prob i -> j\n",
    "    # print('pi list')\n",
    "    # print([p[0] for p in pi_list])\n",
    "    # print('')\n",
    "    for i in universe:\n",
    "        # print('i: ' + str(i))\n",
    "        i_counts = np.zeros(n)\n",
    "        i_deg = 0 #number of hyperedges where i can traverse to some other vertex\n",
    "\n",
    "        i_index = np.where(universe == i)\n",
    "        for pi, scores in pi_list:\n",
    "            if i in pi and len(pi) > 1:\n",
    "                pi_filtered = pi[pi.index(i)+1:] #everything ranked better than i\n",
    "\n",
    "                # if i can use this hyperedge\n",
    "                if len(pi_filtered) > 0:\n",
    "                    # essentially, for each j in pi_filtered\n",
    "                    # grab k=universe.index(j) and increment i_counts[k] by 1/len(pi)\n",
    "                    i_counts[np.where(np.isin(universe, pi_filtered))] += 1/len(pi)\n",
    "\n",
    "                i_counts[i_index] += 1 - (len(pi_filtered) / len(pi))\n",
    "                i_deg += 1\n",
    "        if i_deg > 0:\n",
    "            i_counts /= i_deg\n",
    "        else:\n",
    "            i_counts[i_index] = 1\n",
    "        P[i_index,:] = i_counts\n",
    "\n",
    "    P = np.transpose(P) # since we're using column vectors\n",
    "\n",
    "    # create RWR matrix\n",
    "    r=0.40\n",
    "    rankings = compute_pr(P, r, n)\n",
    "    return universe[np.argsort(rankings)]"
   ]
  },
  {
   "cell_type": "markdown",
   "metadata": {},
   "source": [
    "# Run simulations"
   ]
  },
  {
   "cell_type": "code",
   "execution_count": 10,
   "metadata": {
    "ExecuteTime": {
     "end_time": "2019-05-12T03:01:14.140164Z",
     "start_time": "2019-05-12T03:01:11.889400Z"
    }
   },
   "outputs": [
    {
     "name": "stdout",
     "output_type": "stream",
     "text": [
      "[[0.7967137  0.83430794 0.86843109]]\n",
      "[[0.77053169 0.81407518 0.85234366]]\n",
      "[[0.35724522 0.53840653 0.62829008]]\n"
     ]
    }
   ],
   "source": [
    "sigma_list=[1]\n",
    "p_list = [0.03, 0.05, 0.07]\n",
    "num_trials = 10 #number of trials for each (sigma, p) pair\n",
    "n = 100 #number of elements to collectively rank\n",
    "\n",
    "def ranking(n, sigma_list, p_list, num_trials):\n",
    "    sl = len(sigma_list)\n",
    "    pl = len(p_list)\n",
    "    s=n # Add this line to define s within the function\n",
    "\n",
    "    wkt_means_hg = np.zeros([sl, pl])\n",
    "    wkt_stdevs_hg = np.zeros([sl, pl])\n",
    "    \n",
    "    wkt_means_gh = np.zeros([sl, pl])\n",
    "    wkt_stdevs_gh = np.zeros([sl, pl])\n",
    "    \n",
    "    wkt_means_dwork = np.zeros([sl, pl])\n",
    "    wkt_stdevs_dwork = np.zeros([sl, pl])\n",
    "\n",
    "    for ind1 in range(len(sigma_list)):\n",
    "        for ind2 in range(len(p_list)):\n",
    "            sigma = sigma_list[ind1]\n",
    "            p = p_list[ind2]\n",
    "            # store results of trials\n",
    "            hg_wkt_list = np.zeros([num_trials])\n",
    "            gh_wkt_list = np.zeros([num_trials])\n",
    "            dwork_wkt_list = np.zeros([num_trials])\n",
    "            \n",
    "            for k in range(num_trials):\n",
    "                # give each element a mean score from [0, 10]\n",
    "                means = np.zeros([n])\n",
    "                for i in range(n):\n",
    "                    means[i] = i\n",
    "\n",
    "                # create partial rankings\n",
    "                # for each elt, create 2 partial rankings with that elt?\n",
    "                # ill start with 1\n",
    "                universe, pi_list = create_pi_list(n, s, p, means, sigma) #middle is s, currently using s=n\n",
    "\n",
    "                # true ranking\n",
    "                # lol the -1 bc i still want to use 1-indexing\n",
    "                true_ranking = [x for _, x in sorted(zip(means[universe - 1], universe), key=lambda pair: pair[0])]\n",
    "\n",
    "                # compute ranking for HG\n",
    "                hg_ranking = hg_rank(universe, pi_list)\n",
    "                hg_wkt_dist = scipy.stats.weightedtau(hg_ranking, true_ranking).correlation\n",
    "                hg_wkt_list[k] = hg_wkt_dist\n",
    "                \n",
    "                # compute ranking for G^H\n",
    "                gh_ranking = gh_rank(universe, pi_list)\n",
    "                gh_wkt_dist = scipy.stats.weightedtau(gh_ranking, true_ranking).correlation\n",
    "                gh_wkt_list[k] = gh_wkt_dist\n",
    "                \n",
    "                # compute ranking for dwork\n",
    "                dwork_ranking = dwork_mc3_rank(universe, pi_list)\n",
    "                dwork_wkt_dist = scipy.stats.weightedtau(dwork_ranking, true_ranking).correlation\n",
    "                dwork_wkt_list[k] = dwork_wkt_dist\n",
    "            \n",
    "            # compute mean, stdev for each fn and add to kt_means, kt_stdevs [and wkt variants]\n",
    "            wkt_means_hg[ind1, ind2] = np.mean(hg_wkt_list)\n",
    "            wkt_stdevs_hg[ind1, ind2] = np.std(hg_wkt_list)\n",
    "            \n",
    "            wkt_means_gh[ind1, ind2] = np.mean(gh_wkt_list)\n",
    "            wkt_stdevs_gh[ind1, ind2] = np.std(gh_wkt_list)\n",
    "            \n",
    "            wkt_means_dwork[ind1, ind2] = np.mean(dwork_wkt_list)\n",
    "            wkt_stdevs_dwork[ind1, ind2] = np.std(dwork_wkt_list)\n",
    "\n",
    "    return wkt_means_hg, wkt_stdevs_hg, wkt_means_gh, wkt_stdevs_gh, wkt_means_dwork, wkt_stdevs_dwork\n",
    "\n",
    "# Update the function call to remove unused parameters\n",
    "wkt_means_hg, wkt_stdevs_hg, wkt_means_gh, wkt_stdevs_gh, wkt_means_dwork, wkt_stdevs_dwork = ranking(n, sigma_list, p_list, num_trials)\n",
    "\n",
    "print(wkt_means_hg)\n",
    "print(wkt_means_dwork)\n",
    "print(wkt_means_gh)"
   ]
  },
  {
   "cell_type": "markdown",
   "metadata": {},
   "source": [
    "# Plot results"
   ]
  },
  {
   "cell_type": "code",
   "execution_count": 11,
   "metadata": {
    "ExecuteTime": {
     "end_time": "2019-05-12T03:01:20.265438Z",
     "start_time": "2019-05-12T03:01:19.904981Z"
    }
   },
   "outputs": [
    {
     "data": {
      "image/png": "[encoded data removed]",
      "text/plain": [
       "<Figure size 640x480 with 1 Axes>"
      ]
     },
     "metadata": {},
     "output_type": "display_data"
    }
   ],
   "source": [
    "ind = np.arange(3)  # the x locations for the groups\n",
    "width = 0.15       # the width of the bars\n",
    "\n",
    "fig, ax = plt.subplots()\n",
    "rects1 = ax.bar(ind, wkt_means_hg[0,:], width, color='r', yerr=wkt_stdevs_hg[0,:])\n",
    "rects2 = ax.bar(ind + width, wkt_means_dwork[0,:], width, color='g', yerr=wkt_stdevs_hg[0,:])\n",
    "rects3 = ax.bar(ind + 2*width, wkt_means_gh[0,:], width, color='b', yerr=wkt_stdevs_gh[0,:])\n",
    "\n",
    "# add some text for labels, title and axes ticks\n",
    "ax.set_xlabel('p, Proportion of Vertices in each Partial Ranking')\n",
    "ax.set_ylabel('Weighted Kendall Tau Distance')\n",
    "ax.set_title('Hypergraph vs Dwork Performance in Rank Aggregation')\n",
    "ax.set_xticks(ind + width / 2)\n",
    "ax.set_xticklabels(('0.03', '0.05', '0.07'))\n",
    "ax.set_ylim(bottom=0.3,top=0.95)\n",
    "\n",
    "ax.legend((rects1[0], rects2[0], rects3[0]), ('Hypergraph', 'Dwork', 'Clique Graph'), prop=dict(size=7), loc='best')\n",
    "plt.savefig('hg_dwork_clique_sigma_1.pdf')"
   ]
  },
  {
   "cell_type": "code",
   "execution_count": null,
   "metadata": {},
   "outputs": [],
   "source": []
  }
 ],
 "metadata": {
  "kernelspec": {
   "display_name": "Python 3",
   "language": "python",
   "name": "python3"
  },
  "language_info": {
   "codemirror_mode": {
    "name": "ipython",
    "version": 3
   },
   "file_extension": ".py",
   "mimetype": "text/x-python",
   "name": "python",
   "nbconvert_exporter": "python",
   "pygments_lexer": "ipython3",
   "version": "3.8.18"
  },
  "toc": {
   "base_numbering": 1,
   "nav_menu": {},
   "number_sections": true,
   "sideBar": true,
   "skip_h1_title": false,
   "title_cell": "Table of Contents",
   "title_sidebar": "Contents",
   "toc_cell": false,
   "toc_position": {},
   "toc_section_display": true,
   "toc_window_display": false
  }
 },
 "nbformat": 4,
 "nbformat_minor": 2
}
