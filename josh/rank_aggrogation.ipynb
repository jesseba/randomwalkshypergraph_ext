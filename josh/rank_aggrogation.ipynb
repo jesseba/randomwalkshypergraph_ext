{
 "cells": [
  {
   "cell_type": "code",
   "execution_count": 1,
   "id": "09b46bbd",
   "metadata": {},
   "outputs": [],
   "source": [
    "import pandas as pd"
   ]
  },
  {
   "cell_type": "markdown",
   "id": "e1fb1f81",
   "metadata": {},
   "source": [
    "## read/process data"
   ]
  },
  {
   "cell_type": "code",
   "execution_count": 41,
   "id": "e9408201",
   "metadata": {},
   "outputs": [],
   "source": [
    "# Load the data\n",
    "free4all = pd.read_csv('FreeForAll.csv', header=None)\n",
    "head2head = pd.read_csv('HeadToHead.csv', header=None)\n",
    "\n",
    "# Assign column names\n",
    "free4all.columns = ['DateTime', 'MatchID', 'Unused1', 'Unused2', 'PlayerID', 'Unused3', 'Score']\n",
    "head2head.columns = ['DateTime', 'MatchID', 'Unused1', 'Unused2', 'PlayerID', 'Unused3', 'Score']\n"
   ]
  },
  {
   "cell_type": "code",
   "execution_count": 42,
   "id": "e404c3c3",
   "metadata": {},
   "outputs": [],
   "source": [
    "# For free4all\n",
    "free4all['MatchID'] = free4all['MatchID'].astype(int)\n",
    "free4all['PlayerID'] = free4all['PlayerID'].astype(str)  # PlayerID seems to be a string\n",
    "free4all['Score'] = free4all['Score'].astype(int)\n",
    "\n",
    "# For head2head\n",
    "head2head['MatchID'] = head2head['MatchID'].astype(int)\n",
    "head2head['PlayerID'] = head2head['PlayerID'].astype(str)\n",
    "head2head['Score'] = head2head['Score'].astype(int)\n"
   ]
  },
  {
   "cell_type": "code",
   "execution_count": 43,
   "id": "33f3d220",
   "metadata": {},
   "outputs": [],
   "source": [
    "# dates\n",
    "free4all['DateTime'] = pd.to_datetime(free4all['DateTime'])\n",
    "head2head['DateTime'] = pd.to_datetime(head2head['DateTime'])\n"
   ]
  },
  {
   "cell_type": "markdown",
   "id": "f08aaf5d",
   "metadata": {},
   "source": [
    "## see data"
   ]
  },
  {
   "cell_type": "code",
   "execution_count": 44,
   "id": "b662557f",
   "metadata": {},
   "outputs": [
    {
     "name": "stdout",
     "output_type": "stream",
     "text": [
      "             DateTime  MatchID  Unused1  Unused2          PlayerID  Unused3  \\\n",
      "0 2004-07-08 15:45:00   215333        2       10  2726956381513258        2   \n",
      "1 2004-07-08 15:45:00   215333        2       10  2573485501354547        0   \n",
      "2 2004-07-08 15:45:00   215333        2       10  2534615147427891        1   \n",
      "3 2004-07-08 15:45:00   215333        2       10  2573485501354543        3   \n",
      "4 2004-07-08 16:00:42   215334        2       10  2534615147427891        0   \n",
      "\n",
      "   Score  \n",
      "0      1  \n",
      "1      0  \n",
      "2      7  \n",
      "3      2  \n",
      "4     14  \n",
      "             DateTime  MatchID  Unused1  Unused2          PlayerID  Unused3  \\\n",
      "0 2004-08-06 18:13:50   281884        2       50  2726956381513270        1   \n",
      "1 2004-08-06 18:13:50   281884        2       50  2741700308864766        0   \n",
      "2 2004-08-06 18:19:41   281900        2       20  2731647631125118        0   \n",
      "3 2004-08-06 18:19:41   281900        2       20  2740359951832997        1   \n",
      "4 2004-08-06 18:19:55   281902        2       50  2737009059253030        1   \n",
      "\n",
      "   Score  \n",
      "0      4  \n",
      "1      8  \n",
      "2      3  \n",
      "3      6  \n",
      "4      0  \n"
     ]
    }
   ],
   "source": [
    "print(free4all.head())\n",
    "print(head2head.head())\n"
   ]
  },
  {
   "cell_type": "code",
   "execution_count": 45,
   "id": "f7e8fa44",
   "metadata": {},
   "outputs": [
    {
     "name": "stdout",
     "output_type": "stream",
     "text": [
      "count    286926.000000\n",
      "mean          7.110279\n",
      "std           4.926285\n",
      "min         -54.000000\n",
      "25%           3.000000\n",
      "50%           7.000000\n",
      "75%          10.000000\n",
      "max          50.000000\n",
      "Name: Score, dtype: float64\n",
      "count    12454.000000\n",
      "mean         3.692870\n",
      "std          3.044047\n",
      "min        -39.000000\n",
      "25%          1.000000\n",
      "50%          4.000000\n",
      "75%          7.000000\n",
      "max         10.000000\n",
      "Name: Score, dtype: float64\n"
     ]
    }
   ],
   "source": [
    "print(free4all['Score'].describe())\n",
    "print(head2head['Score'].describe())\n"
   ]
  },
  {
   "cell_type": "markdown",
   "id": "acb9b26a",
   "metadata": {},
   "source": [
    "## construct hypergraph"
   ]
  },
  {
   "cell_type": "markdown",
   "id": "b3e4f8c6",
   "metadata": {},
   "source": [
    "### Initialize Data Structures"
   ]
  },
  {
   "cell_type": "code",
   "execution_count": 48,
   "id": "76b60491",
   "metadata": {},
   "outputs": [],
   "source": [
    "import numpy as np\n",
    "import networkx as nx\n",
    "\n",
    "# Since NetworkX doesn't support hypergraphs natively, we represent the hypergraph using custom data structures\n",
    "players = free4all['PlayerID'].unique()\n",
    "player_indices = {player_id: idx for idx, player_id in enumerate(players)}\n",
    "n = len(players)\n",
    "\n",
    "# Initialize degree dictionaries\n",
    "d_v = np.zeros(n)  # Vertex degrees\n"
   ]
  },
  {
   "cell_type": "markdown",
   "id": "cb9656c6",
   "metadata": {},
   "source": [
    "### Create Hyperedges and Compute Weights"
   ]
  },
  {
   "cell_type": "markdown",
   "id": "0c67615f",
   "metadata": {},
   "source": [
    "Hyperedge Weights (ω(e))\n",
    "According to the paper:\n",
    "\n",
    "ω(e) = (standard deviation of scores in match e) + 1\n",
    "\n",
    "\n",
    "Edge-Dependent Vertex Weights (γₑ(v))\n",
    "\n",
    "γₑ(v) = exp(score of player v in match e)\n",
    "\n",
    "Compute δ(e) = Σ₍ᵥ∈ₑ₎ γₑ(v)"
   ]
  },
  {
   "cell_type": "code",
   "execution_count": 49,
   "id": "4357bddd",
   "metadata": {},
   "outputs": [],
   "source": [
    "# Initialize structures\n",
    "hyperedges = {}  # Key: MatchID, Value: list of player IDs\n",
    "omega_e = {}     # Hyperedge weights\n",
    "delta_e = {}     # Sum of gamma_e(v) over v in e\n",
    "gamma_e = {}     # Key: (MatchID, PlayerID), Value: gamma_e(v)\n",
    "\n",
    "# Process each free-for-all match\n",
    "for match_id, group in free4all.groupby('MatchID'):\n",
    "    player_ids = group['PlayerID'].tolist()\n",
    "    scores = group['Score'].tolist()\n",
    "    # Compute gamma_e(v)\n",
    "    gamma_values = np.exp(scores)\n",
    "    # Store hyperedge information\n",
    "    hyperedges[match_id] = player_ids\n",
    "    # Compute ω(e)\n",
    "    std_score = np.std(scores)\n",
    "    omega = std_score + 1  # Avoid ω(e) = 0\n",
    "    omega_e[match_id] = omega\n",
    "    # Compute δ(e)\n",
    "    delta = np.sum(gamma_values)\n",
    "    delta_e[match_id] = delta\n",
    "    # Store γₑ(v)\n",
    "    for pid, gamma_v in zip(player_ids, gamma_values):\n",
    "        gamma_e[(match_id, pid)] = gamma_v\n",
    "    # Update vertex degrees d(v)\n",
    "    for pid in player_ids:\n",
    "        idx = player_indices[pid]\n",
    "        d_v[idx] += omega\n"
   ]
  },
  {
   "cell_type": "markdown",
   "id": "d6736311",
   "metadata": {},
   "source": [
    "### Construct the Transition Matrix"
   ]
  },
  {
   "cell_type": "markdown",
   "id": "821fb123",
   "metadata": {},
   "source": [
    "$p_{v,w}=∑_{e∈E(v)} (ω(e)/d(v)) (γ_e(w)/δ(e))$"
   ]
  },
  {
   "cell_type": "markdown",
   "id": "f9cd6fdf",
   "metadata": {},
   "source": [
    "#### initialize transition matrix"
   ]
  },
  {
   "cell_type": "code",
   "execution_count": 50,
   "id": "1e9b5374",
   "metadata": {},
   "outputs": [],
   "source": [
    "P = np.zeros((n, n))"
   ]
  },
  {
   "cell_type": "markdown",
   "id": "1dfc471d",
   "metadata": {},
   "source": [
    "#### compute transition probabilities"
   ]
  },
  {
   "cell_type": "code",
   "execution_count": 51,
   "id": "76b206a1",
   "metadata": {},
   "outputs": [],
   "source": [
    "for match_id, player_ids in hyperedges.items():\n",
    "    omega = omega_e[match_id]\n",
    "    delta = delta_e[match_id]\n",
    "    for v in player_ids:\n",
    "        idx_v = player_indices[v]\n",
    "        d_v_v = d_v[idx_v]\n",
    "        # Avoid division by zero\n",
    "        if d_v_v == 0:\n",
    "            continue\n",
    "        for w in player_ids:\n",
    "            idx_w = player_indices[w]\n",
    "            gamma_w = gamma_e[(match_id, w)]\n",
    "            P[idx_v, idx_w] += (omega / d_v_v) * (gamma_w / delta)\n"
   ]
  },
  {
   "cell_type": "markdown",
   "id": "10957cc2",
   "metadata": {},
   "source": [
    "#### verify transition matrix"
   ]
  },
  {
   "cell_type": "code",
   "execution_count": 52,
   "id": "c764c111",
   "metadata": {},
   "outputs": [
    {
     "name": "stdout",
     "output_type": "stream",
     "text": [
      "Row sums (should be close to 1): min=0.9999999999999987, max=1.000000000000001\n"
     ]
    }
   ],
   "source": [
    "row_sums = P.sum(axis=1)\n",
    "print(f\"Row sums (should be close to 1): min={row_sums.min()}, max={row_sums.max()}\")\n"
   ]
  },
  {
   "cell_type": "markdown",
   "id": "303b3cda",
   "metadata": {},
   "source": [
    "### random walk with restart"
   ]
  },
  {
   "cell_type": "markdown",
   "id": "438cc9c0",
   "metadata": {},
   "source": [
    "#### define restart probability"
   ]
  },
  {
   "cell_type": "code",
   "execution_count": 53,
   "id": "f6a5e71b",
   "metadata": {},
   "outputs": [],
   "source": [
    "beta = 0.4  # Restart probability as per the paper\n"
   ]
  },
  {
   "cell_type": "markdown",
   "id": "54559c11",
   "metadata": {},
   "source": [
    "#### modify transition matrix"
   ]
  },
  {
   "cell_type": "code",
   "execution_count": 54,
   "id": "798b44a5",
   "metadata": {},
   "outputs": [],
   "source": [
    "# Identity matrix\n",
    "I = np.identity(n)\n",
    "\n",
    "# Adjust the transition matrix\n",
    "P_rw = (1 - beta) * P + beta * I\n"
   ]
  },
  {
   "cell_type": "markdown",
   "id": "4b3352a5",
   "metadata": {},
   "source": [
    "### compute the stationary distribution"
   ]
  },
  {
   "cell_type": "code",
   "execution_count": 55,
   "id": "733d073e",
   "metadata": {},
   "outputs": [],
   "source": [
    "def compute_stationary_distribution(P, tol=1e-6, max_iter=1000):\n",
    "    n = P.shape[0]\n",
    "    v = np.ones(n) / n  # Start with uniform distribution\n",
    "    for i in range(max_iter):\n",
    "        v_new = P.T @ v\n",
    "        if np.linalg.norm(v_new - v, ord=1) < tol:\n",
    "            print(f\"Converged after {i+1} iterations\")\n",
    "            break\n",
    "        v = v_new\n",
    "    return v\n",
    "\n",
    "stationary_distribution = compute_stationary_distribution(P_rw)\n"
   ]
  },
  {
   "cell_type": "markdown",
   "id": "44c5236a",
   "metadata": {},
   "source": [
    "### rank the players"
   ]
  },
  {
   "cell_type": "code",
   "execution_count": 56,
   "id": "b3f51fa5",
   "metadata": {},
   "outputs": [
    {
     "name": "stdout",
     "output_type": "stream",
     "text": [
      "Rank 1: PlayerID 2573485501354592, Score 0.04946070224492898\n",
      "Rank 2: PlayerID 2534615147427902, Score 0.03071966398073391\n",
      "Rank 3: PlayerID 2728296738545264, Score 0.029687577691484595\n",
      "Rank 4: PlayerID 2727626560029400, Score 0.017134364530741297\n",
      "Rank 5: PlayerID 2573485501354550, Score 0.014522938312585058\n",
      "Rank 6: PlayerID 2742370487380979, Score 0.011993129663759946\n",
      "Rank 7: PlayerID 2534615147427891, Score 0.0111911417811651\n",
      "Rank 8: PlayerID 2731647631125295, Score 0.010958992798726874\n",
      "Rank 9: PlayerID 2730977452609251, Score 0.010501430055279043\n",
      "Rank 10: PlayerID 2573485501354625, Score 0.010359022652640751\n"
     ]
    }
   ],
   "source": [
    "# Create a mapping from index to player ID\n",
    "index_to_player = {idx: pid for pid, idx in player_indices.items()}\n",
    "\n",
    "# Create a list of (PlayerID, Score)\n",
    "ranking = [(index_to_player[idx], score) for idx, score in enumerate(stationary_distribution)]\n",
    "\n",
    "# Sort the ranking\n",
    "ranking.sort(key=lambda x: x[1], reverse=True)\n",
    "\n",
    "# Display top 10 players\n",
    "for rank, (player_id, score) in enumerate(ranking[:10], start=1):\n",
    "    print(f\"Rank {rank}: PlayerID {player_id}, Score {score}\")\n"
   ]
  },
  {
   "cell_type": "markdown",
   "id": "87e55093",
   "metadata": {},
   "source": [
    "### evaluate the ranking"
   ]
  },
  {
   "cell_type": "markdown",
   "id": "f17e2288",
   "metadata": {},
   "source": [
    "#### prepare the 1-v-1 match data"
   ]
  },
  {
   "cell_type": "code",
   "execution_count": 59,
   "id": "5a120234",
   "metadata": {},
   "outputs": [],
   "source": [
    "# Prepare evaluation data\n",
    "evaluation_data = []\n",
    "\n",
    "for match_id, group in matches:\n",
    "    if len(group) != 2:\n",
    "        continue  # Ensure it's a 1-v-1 match\n",
    "    players = group['PlayerID'].tolist()\n",
    "    scores = group['Score'].tolist()\n",
    "    if scores[0] == scores[1]:\n",
    "        continue  # Skip ties\n",
    "    winner_idx = 0 if scores[0] > scores[1] else 1\n",
    "    loser_idx = 1 - winner_idx\n",
    "    winner_id = players[winner_idx]\n",
    "    loser_id = players[loser_idx]\n",
    "    evaluation_data.append({'MatchID': match_id, 'WinnerID': winner_id, 'LoserID': loser_id})\n"
   ]
  },
  {
   "cell_type": "markdown",
   "id": "4ac45f21",
   "metadata": {},
   "source": [
    "#### evaluate prediction"
   ]
  },
  {
   "cell_type": "code",
   "execution_count": 60,
   "id": "248c24f0",
   "metadata": {},
   "outputs": [
    {
     "name": "stdout",
     "output_type": "stream",
     "text": [
      "Accuracy of predictions: 69.51%\n"
     ]
    }
   ],
   "source": [
    "correct_predictions = 0\n",
    "total_matches = len(evaluation_data)\n",
    "\n",
    "# Create a dictionary for quick lookup of player scores\n",
    "player_scores = {player_id: score for player_id, score in ranking}\n",
    "\n",
    "for match in evaluation_data:\n",
    "    winner_id = match['WinnerID']\n",
    "    loser_id = match['LoserID']\n",
    "    winner_score = player_scores.get(winner_id, None)\n",
    "    loser_score = player_scores.get(loser_id, None)\n",
    "    if winner_score is None or loser_score is None:\n",
    "        continue  # Skip if we don't have rankings for both players\n",
    "    predicted_winner = winner_id if winner_score > loser_score else loser_id\n",
    "    if predicted_winner == winner_id:\n",
    "        correct_predictions += 1\n",
    "\n",
    "accuracy = correct_predictions / total_matches * 100 if total_matches > 0 else 0\n",
    "print(f\"Accuracy of predictions: {accuracy:.2f}%\")\n"
   ]
  },
  {
   "cell_type": "code",
   "execution_count": null,
   "id": "a2586a80",
   "metadata": {},
   "outputs": [],
   "source": []
  }
 ],
 "metadata": {
  "kernelspec": {
   "display_name": "Python (new_env)",
   "language": "python",
   "name": "new_env"
  },
  "language_info": {
   "codemirror_mode": {
    "name": "ipython",
    "version": 3
   },
   "file_extension": ".py",
   "mimetype": "text/x-python",
   "name": "python",
   "nbconvert_exporter": "python",
   "pygments_lexer": "ipython3",
   "version": "3.11.5"
  }
 },
 "nbformat": 4,
 "nbformat_minor": 5
}
